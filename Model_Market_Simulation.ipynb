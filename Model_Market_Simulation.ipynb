{
  "nbformat": 4,
  "nbformat_minor": 0,
  "metadata": {
    "colab": {
      "provenance": [],
      "authorship_tag": "ABX9TyOukcD2ds7auTma1UWFquOk",
      "include_colab_link": true
    },
    "kernelspec": {
      "name": "python3",
      "display_name": "Python 3"
    },
    "language_info": {
      "name": "python"
    }
  },
  "cells": [
    {
      "cell_type": "markdown",
      "metadata": {
        "id": "view-in-github",
        "colab_type": "text"
      },
      "source": [
        "<a href=\"https://colab.research.google.com/github/DarthCoder501/ML-AI-Projects/blob/main/Model_Market_Simulation.ipynb\" target=\"_parent\"><img src=\"https://colab.research.google.com/assets/colab-badge.svg\" alt=\"Open In Colab\"/></a>"
      ]
    },
    {
      "cell_type": "code",
      "source": [
        "import pandas as pd\n",
        "import matplotlib.pyplot as plt\n",
        "import warnings as wr\n",
        "wr.filterwarnings('ignore')"
      ],
      "metadata": {
        "id": "32yzmYqJAHtJ"
      },
      "execution_count": null,
      "outputs": []
    },
    {
      "cell_type": "code",
      "execution_count": null,
      "metadata": {
        "id": "2O-NgfMY7FXH"
      },
      "outputs": [],
      "source": [
        "# Load trained model\n",
        "with open('xgb_model-FeatureSMOTE.pkl', 'rb') as f:\n",
        "    model = pickle.load(f)\n",
        "\n",
        "# Load CSV File\n",
        "newDF = pd.read_csv('newData.csv')\n",
        "\n",
        "# Load new data\n",
        "X_new = newDF.iloc[:, 2:]\n",
        "\n",
        "# Generate predictions\n",
        "predictions = model.predict(X_new)"
      ]
    },
    {
      "cell_type": "code",
      "source": [
        "# Define thresholds\n",
        "crisis_threshold = 0.7\n",
        "\n",
        "# Categorize periods\n",
        "newDF['predicted_crisis'] = (predictions > crisis_threshold).astype(int)\n",
        "\n",
        "# Define allocation strategy\n",
        "def allocate_assets(row):\n",
        "    if row['predicted_crisis'] == 1:  # Crisis period\n",
        "        return {\"cash\": 70, \"bonds\": 20, \"stocks\": 10}\n",
        "    else:  # Normal period\n",
        "        return {\"cash\": 10, \"bonds\": 20, \"stocks\": 70}\n",
        "\n",
        "newDF['allocation'] = newDF.apply(allocate_assets, axis=1)"
      ],
      "metadata": {
        "id": "DdUiJQzX7MPw"
      },
      "execution_count": null,
      "outputs": []
    },
    {
      "cell_type": "code",
      "source": [
        "def simulate_strategy(data):\n",
        "    # Starting portfolio value\n",
        "    portfolio_value = 100000\n",
        "    portfolio_history = []  # To track portfolio value over time\n",
        "    prev_row = None  # To track previous row data\n",
        "\n",
        "    for _, row in newDF.iterrows():\n",
        "        allocation = row['allocation']  # Allocation dictionary\n",
        "        market_data = {  # Extract relevant market data\n",
        "            'stocks': row['MXUS_ma_4'],\n",
        "            'bonds': row['LF94TRUU_ma_4'],\n",
        "            'cash': 1.0  # Cash grows at a fixed rate\n",
        "        }\n",
        "\n",
        "        # Calculate returns based on previous market data\n",
        "        returns = {\n",
        "            'stocks': ((row['MXUS_ma_4'] / prev_row['MXUS_ma_4'] - 1) if prev_row is not None else 0),\n",
        "            'bonds': ((row['LF94TRUU_ma_4'] / prev_row['LF94TRUU_ma_4'] - 1) if prev_row is not None else 0),\n",
        "            'cash': 0.0006  # Weekly cash growth (adjust as needed)\n",
        "        }\n",
        "\n",
        "        # Adjust portfolio value based on allocation and returns\n",
        "        portfolio_value += sum(\n",
        "            (allocation[asset] / 100) * portfolio_value * returns.get(asset, 0)\n",
        "            for asset in allocation\n",
        "        )\n",
        "\n",
        "        # Save portfolio value with date\n",
        "        portfolio_history.append((row['Data'], portfolio_value))\n",
        "\n",
        "        # Update previous row\n",
        "        prev_row = row\n",
        "\n",
        "    return portfolio_value, portfolio_history"
      ],
      "metadata": {
        "id": "MSgBx9QM7PJb"
      },
      "execution_count": null,
      "outputs": []
    },
    {
      "cell_type": "code",
      "source": [
        "# Simulates Stragety\n",
        "final_value, portfolio_history = simulate_strategy(data)\n",
        "print(\"Final portfolio value:\", final_value)"
      ],
      "metadata": {
        "id": "QAgAZQ6s7Rew"
      },
      "execution_count": null,
      "outputs": []
    },
    {
      "cell_type": "code",
      "source": [
        "# Visualize the portfolio's performance over time\n",
        "dates, values = zip(*portfolio_history)  # Unpack dates and values\n",
        "plt.plot(dates, values)\n",
        "plt.title(\"Portfolio Value Over Time\")\n",
        "plt.xlabel(\"Date\")\n",
        "plt.ylabel(\"Portfolio Value\")\n",
        "plt.xticks(rotation=45)  # Rotate date labels for better readability\n",
        "plt.show()"
      ],
      "metadata": {
        "id": "gpaUJtgf7R8B"
      },
      "execution_count": null,
      "outputs": []
    }
  ]
}