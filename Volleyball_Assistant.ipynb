{
  "nbformat": 4,
  "nbformat_minor": 0,
  "metadata": {
    "colab": {
      "provenance": [],
      "authorship_tag": "ABX9TyOd1mU6Ze3WKrqQtxnof3sF",
      "include_colab_link": true
    },
    "kernelspec": {
      "name": "python3",
      "display_name": "Python 3"
    },
    "language_info": {
      "name": "python"
    }
  },
  "cells": [
    {
      "cell_type": "markdown",
      "metadata": {
        "id": "view-in-github",
        "colab_type": "text"
      },
      "source": [
        "<a href=\"https://colab.research.google.com/github/DarthCoder501/ML-AI-Projects/blob/main/Volleyball_Assistant.ipynb\" target=\"_parent\"><img src=\"https://colab.research.google.com/assets/colab-badge.svg\" alt=\"Open In Colab\"/></a>"
      ]
    },
    {
      "cell_type": "code",
      "source": [
        "!pip install langchain-core langgraph>0.2.27\n",
        "!pip install -qU langchain-groq\n",
        "!pip install langchain"
      ],
      "metadata": {
        "id": "YWhdmE3mmrsl"
      },
      "execution_count": null,
      "outputs": []
    },
    {
      "cell_type": "code",
      "execution_count": null,
      "metadata": {
        "id": "2Lck7WWHmCee"
      },
      "outputs": [],
      "source": [
        "import getpass\n",
        "import os\n",
        "import langchain\n",
        "import json\n",
        "from google.colab import userdata\n",
        "from langchain_groq import ChatGroq\n",
        "from langchain_core.prompts import ChatPromptTemplate, MessagesPlaceholder\n",
        "from typing import Sequence\n",
        "from langchain_core.messages import BaseMessage\n",
        "from langgraph.graph.message import add_messages\n",
        "from typing_extensions import Annotated, TypedDict\n",
        "from langchain.schema import HumanMessage\n",
        "from langgraph.checkpoint.memory import MemorySaver\n",
        "from langgraph.graph import START, StateGraph"
      ]
    },
    {
      "cell_type": "code",
      "source": [
        "os.environ[\"LANGCHAIN_TRACING_V2\"] = \"true\"\n",
        "langchain_api_key = userdata.get(\"LANGCHAIN_API_KEY\")\n",
        "os.environ[\"LANGCHAIN_API_KEY\"] = langchain_api_key"
      ],
      "metadata": {
        "id": "Gowg28Jums8D"
      },
      "execution_count": null,
      "outputs": []
    },
    {
      "cell_type": "code",
      "source": [
        "groq_api_key = userdata.get(\"GROQ_API_KEY\")\n",
        "os.environ[\"GROQ_API_KEY\"] = groq_api_key"
      ],
      "metadata": {
        "id": "8s7RmzdFoOkx"
      },
      "execution_count": null,
      "outputs": []
    },
    {
      "cell_type": "code",
      "source": [
        "model = ChatGroq(model=\"llama3-groq-70b-8192-tool-use-preview\")"
      ],
      "metadata": {
        "id": "YoqxG7XCmx27"
      },
      "execution_count": null,
      "outputs": []
    },
    {
      "cell_type": "code",
      "source": [
        "from langchain_core.prompts import ChatPromptTemplate, MessagesPlaceholder\n",
        "\n",
        "# Define the prompt template for volleyball training plans\n",
        "prompt = ChatPromptTemplate.from_messages(\n",
        "    [\n",
        "        (\n",
        "            \"system\",\n",
        "            \"You are a professional volleyball coach specializing in creating personalized training plans for players. \"\n",
        "            \"Your task is to gather the player's volleyball position, experience level, and specific goals, and then generate a comprehensive training plan. \"\n",
        "            \"The training plan should focus exclusively on the player's volleyball skills and must include the following components: \"\n",
        "            \"1. **Structured Phases**: Outline the training plan in phases (e.g., foundational, skill development, competition preparation). \"\n",
        "            \"2. **Specific Drills**: Include at least three drills for each phase that target the identified skills. \"\n",
        "            \"3. **Clear Explanations**: Provide detailed descriptions for each drill, including objectives, duration, and variations. \"\n",
        "            \"Make sure to personalize the plan based on the player's input, ensuring relevance to their goals and position. \"\n",
        "            \"Avoid including any fitness-related elements or goals in the training plan. \"\n",
        "            \"Do not call external tools or ask follow-up questions if all necessary information is already provided. \"\n",
        "            \"Provide the final training plan directly, formatted with headings and bullet points for clarity.\"\n",
        "        ),\n",
        "        MessagesPlaceholder(variable_name=\"messages\"),\n",
        "    ]\n",
        ")\n"
      ],
      "metadata": {
        "id": "72rExeqUm9Ma"
      },
      "execution_count": null,
      "outputs": []
    },
    {
      "cell_type": "code",
      "source": [
        "class VolleyballState(TypedDict):\n",
        "    messages: Annotated[Sequence[BaseMessage], add_messages]\n",
        "    position: str\n",
        "    experience_level: str\n",
        "    volleyball_goals: Sequence[str]"
      ],
      "metadata": {
        "id": "z6IRMpgUnI43"
      },
      "execution_count": null,
      "outputs": []
    },
    {
      "cell_type": "code",
      "source": [
        "def generate_volleyball_training_plan(playerPosition, experienceLevel, volleyballGoals):\n",
        "    return (\n",
        "        f\"Training plan for {playerPosition} with {experienceLevel} experience:\\n\"\n",
        "        f\"Volleyball Goals: {', '.join(volleyballGoals)}.\\n\"\n",
        "        \"Include specific drills for each goal to improve your skills.\"\n",
        "    )"
      ],
      "metadata": {
        "id": "ggkVho5LwHJ1"
      },
      "execution_count": null,
      "outputs": []
    },
    {
      "cell_type": "code",
      "source": [
        "# Function to call the model and generate training plans\n",
        "def call_model(state: VolleyballState):\n",
        "    # Debug: Print state before calling model\n",
        "    print(f\"Calling model with state: {state}\")\n",
        "\n",
        "    # Use the prompt template to call the language model, filling in the user's inputs\n",
        "    chain = prompt | model\n",
        "    response = chain.invoke(state)\n",
        "\n",
        "    # Debug: Print raw response for troubleshooting\n",
        "    print(f\"Model response: {response}\")\n",
        "\n",
        "    # Check if the response contains a tool call\n",
        "    if \"<tool_call>\" in response.content:\n",
        "        # Parse the tool call\n",
        "        tool_call_str = response.content.strip(\"<tool_call>\").strip(\"</tool_call>\")\n",
        "        tool_call_data = json.loads(tool_call_str)\n",
        "\n",
        "        # Call the appropriate function for generating the volleyball training plan\n",
        "        training_plan = generate_volleyball_training_plan(**tool_call_data['arguments'])\n",
        "        return {\"messages\": [training_plan]}\n",
        "\n",
        "    return {\"messages\": [response]}"
      ],
      "metadata": {
        "id": "B__d0C6inKzs"
      },
      "execution_count": null,
      "outputs": []
    },
    {
      "cell_type": "code",
      "source": [
        "workflow = StateGraph(state_schema=VolleyballState)\n",
        "\n",
        "# Add nodes and edges\n",
        "workflow.add_edge(START, \"model\")\n",
        "workflow.add_node(\"model\", call_model)\n",
        "\n",
        "# Create an in-memory checkpoint to save the conversation\n",
        "memory = MemorySaver()\n",
        "app = workflow.compile(checkpointer=memory)\n"
      ],
      "metadata": {
        "id": "dhceiaFUnOcJ"
      },
      "execution_count": null,
      "outputs": []
    },
    {
      "cell_type": "code",
      "source": [
        "# Define the config for conversation thread\n",
        "config = {\"configurable\": {\"thread_id\": \"volleyball123\"}}\n",
        "\n",
        "# Start continuous conversation\n",
        "conversation_history = []\n",
        "\n",
        "while True:\n",
        "    # User input\n",
        "    position = input(\"What is your volleyball position? (if unsure type 'unsure')): \")\n",
        "    if position.lower().strip == 'unsure':\n",
        "        continue\n",
        "    else:\n",
        "        position = position.lower().strip()\n",
        "\n",
        "\n",
        "    experience_level = input(\"What is your experience level (Beginner, Intermediate, Advanced)? \").lower().strip()\n",
        "\n",
        "    volleyball_goals_input = input(\"What are your volleyball goals?: \").lower().strip()\n",
        "\n",
        "    volleyball_goals = [goal.strip() for goal in volleyball_goals_input.split(\",\")]\n",
        "\n",
        "    # Append user's message to the conversation history\n",
        "    conversation_history.append(\n",
        "        HumanMessage(\n",
        "            content=f\"I am {position} with {experience_level} experience, \"\n",
        "            f\"and my volleyball goals are {volleyball_goals}.\"\n",
        "        )\n",
        "    )\n",
        "\n",
        "    # Invoke the model with the user's input for personalized training plan\n",
        "    output = app.invoke(\n",
        "        {\n",
        "            \"messages\": conversation_history,\n",
        "            \"position\": position,\n",
        "            \"experience_level\": experience_level,\n",
        "            \"volleyball_goals\": volleyball_goals\n",
        "        },\n",
        "        config\n",
        "    )\n",
        "\n",
        "    # Store the response from the model into the conversation history\n",
        "    conversation_history.append(output[\"messages\"][-1])\n",
        "\n",
        "    # Print the final output message (training plan)\n",
        "    if output[\"messages\"]:\n",
        "        print(output[\"messages\"][-1].content)  # Ensure to print the 'content' of the response\n",
        "    else:\n",
        "        print(\"No response from the model.\")\n",
        "    break"
      ],
      "metadata": {
        "id": "zRLTuj7dnUgU"
      },
      "execution_count": null,
      "outputs": []
    }
  ]
}