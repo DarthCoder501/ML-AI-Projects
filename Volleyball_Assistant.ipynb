{
  "nbformat": 4,
  "nbformat_minor": 0,
  "metadata": {
    "colab": {
      "provenance": [],
      "authorship_tag": "ABX9TyO+VPAW4PIyS2zIuQMzCurJ",
      "include_colab_link": true
    },
    "kernelspec": {
      "name": "python3",
      "display_name": "Python 3"
    },
    "language_info": {
      "name": "python"
    }
  },
  "cells": [
    {
      "cell_type": "markdown",
      "metadata": {
        "id": "view-in-github",
        "colab_type": "text"
      },
      "source": [
        "<a href=\"https://colab.research.google.com/github/DarthCoder501/ML-AI-Projects/blob/main/Volleyball_Assistant.ipynb\" target=\"_parent\"><img src=\"https://colab.research.google.com/assets/colab-badge.svg\" alt=\"Open In Colab\"/></a>"
      ]
    },
    {
      "cell_type": "code",
      "source": [
        "!pip install langchain-core langgraph>0.2.27\n",
        "!pip install -qU langchain-groq"
      ],
      "metadata": {
        "colab": {
          "base_uri": "https://localhost:8080/"
        },
        "id": "YWhdmE3mmrsl",
        "outputId": "fd230a4d-e443-4c60-fb47-98c825af1351"
      },
      "execution_count": 1,
      "outputs": [
        {
          "output_type": "stream",
          "name": "stdout",
          "text": [
            "\u001b[?25l   \u001b[90m━━━━━━━━━━━━━━━━━━━━━━━━━━━━━━━━━━━━━━━━\u001b[0m \u001b[32m0.0/106.5 kB\u001b[0m \u001b[31m?\u001b[0m eta \u001b[36m-:--:--\u001b[0m\r\u001b[2K   \u001b[90m━━━━━━━━━━━━━━━━━━━━━━━━━━━━━━━━━━━━━━━━\u001b[0m \u001b[32m106.5/106.5 kB\u001b[0m \u001b[31m5.7 MB/s\u001b[0m eta \u001b[36m0:00:00\u001b[0m\n",
            "\u001b[?25h"
          ]
        }
      ]
    },
    {
      "cell_type": "code",
      "execution_count": 2,
      "metadata": {
        "id": "2Lck7WWHmCee"
      },
      "outputs": [],
      "source": [
        "import getpass\n",
        "import os\n",
        "import langchain\n",
        "import json\n",
        "from google.colab import userdata\n",
        "from langchain_groq import ChatGroq\n",
        "from langchain_core.prompts import ChatPromptTemplate, MessagesPlaceholder\n",
        "from typing import Sequence\n",
        "from langchain_core.messages import BaseMessage\n",
        "from langgraph.graph.message import add_messages\n",
        "from typing_extensions import Annotated, TypedDict\n",
        "from langchain.schema import HumanMessage\n",
        "from langgraph.checkpoint.memory import MemorySaver\n",
        "from langgraph.graph import START, StateGraph"
      ]
    },
    {
      "cell_type": "code",
      "source": [
        "os.environ[\"LANGCHAIN_TRACING_V2\"] = \"true\"\n",
        "langchain_api_key = userdata.get(\"LANGCHAIN_API_KEY\")\n",
        "os.environ[\"LANGCHAIN_API_KEY\"] = langchain_api_key"
      ],
      "metadata": {
        "id": "Gowg28Jums8D"
      },
      "execution_count": 3,
      "outputs": []
    },
    {
      "cell_type": "code",
      "source": [
        "groq_api_key = userdata.get(\"GROQ_API_KEY\")\n",
        "os.environ[\"GROQ_API_KEY\"] = groq_api_key"
      ],
      "metadata": {
        "id": "8s7RmzdFoOkx"
      },
      "execution_count": 4,
      "outputs": []
    },
    {
      "cell_type": "code",
      "source": [
        "!pip install langchain"
      ],
      "metadata": {
        "colab": {
          "base_uri": "https://localhost:8080/"
        },
        "id": "q9LaeOk7pL0J",
        "outputId": "3c97f8fd-8f9a-4173-83d5-d651bfafa931"
      },
      "execution_count": 5,
      "outputs": [
        {
          "output_type": "stream",
          "name": "stdout",
          "text": [
            "Collecting langchain\n",
            "  Downloading langchain-0.3.1-py3-none-any.whl.metadata (7.1 kB)\n",
            "Requirement already satisfied: PyYAML>=5.3 in /usr/local/lib/python3.10/dist-packages (from langchain) (6.0.2)\n",
            "Requirement already satisfied: SQLAlchemy<3,>=1.4 in /usr/local/lib/python3.10/dist-packages (from langchain) (2.0.35)\n",
            "Requirement already satisfied: aiohttp<4.0.0,>=3.8.3 in /usr/local/lib/python3.10/dist-packages (from langchain) (3.10.5)\n",
            "Requirement already satisfied: async-timeout<5.0.0,>=4.0.0 in /usr/local/lib/python3.10/dist-packages (from langchain) (4.0.3)\n",
            "Requirement already satisfied: langchain-core<0.4.0,>=0.3.6 in /usr/local/lib/python3.10/dist-packages (from langchain) (0.3.6)\n",
            "Collecting langchain-text-splitters<0.4.0,>=0.3.0 (from langchain)\n",
            "  Downloading langchain_text_splitters-0.3.0-py3-none-any.whl.metadata (2.3 kB)\n",
            "Requirement already satisfied: langsmith<0.2.0,>=0.1.17 in /usr/local/lib/python3.10/dist-packages (from langchain) (0.1.129)\n",
            "Requirement already satisfied: numpy<2,>=1 in /usr/local/lib/python3.10/dist-packages (from langchain) (1.26.4)\n",
            "Requirement already satisfied: pydantic<3.0.0,>=2.7.4 in /usr/local/lib/python3.10/dist-packages (from langchain) (2.9.2)\n",
            "Requirement already satisfied: requests<3,>=2 in /usr/local/lib/python3.10/dist-packages (from langchain) (2.32.3)\n",
            "Requirement already satisfied: tenacity!=8.4.0,<9.0.0,>=8.1.0 in /usr/local/lib/python3.10/dist-packages (from langchain) (8.5.0)\n",
            "Requirement already satisfied: aiohappyeyeballs>=2.3.0 in /usr/local/lib/python3.10/dist-packages (from aiohttp<4.0.0,>=3.8.3->langchain) (2.4.0)\n",
            "Requirement already satisfied: aiosignal>=1.1.2 in /usr/local/lib/python3.10/dist-packages (from aiohttp<4.0.0,>=3.8.3->langchain) (1.3.1)\n",
            "Requirement already satisfied: attrs>=17.3.0 in /usr/local/lib/python3.10/dist-packages (from aiohttp<4.0.0,>=3.8.3->langchain) (24.2.0)\n",
            "Requirement already satisfied: frozenlist>=1.1.1 in /usr/local/lib/python3.10/dist-packages (from aiohttp<4.0.0,>=3.8.3->langchain) (1.4.1)\n",
            "Requirement already satisfied: multidict<7.0,>=4.5 in /usr/local/lib/python3.10/dist-packages (from aiohttp<4.0.0,>=3.8.3->langchain) (6.1.0)\n",
            "Requirement already satisfied: yarl<2.0,>=1.0 in /usr/local/lib/python3.10/dist-packages (from aiohttp<4.0.0,>=3.8.3->langchain) (1.11.1)\n",
            "Requirement already satisfied: jsonpatch<2.0,>=1.33 in /usr/local/lib/python3.10/dist-packages (from langchain-core<0.4.0,>=0.3.6->langchain) (1.33)\n",
            "Requirement already satisfied: packaging<25,>=23.2 in /usr/local/lib/python3.10/dist-packages (from langchain-core<0.4.0,>=0.3.6->langchain) (24.1)\n",
            "Requirement already satisfied: typing-extensions>=4.7 in /usr/local/lib/python3.10/dist-packages (from langchain-core<0.4.0,>=0.3.6->langchain) (4.12.2)\n",
            "Requirement already satisfied: httpx<1,>=0.23.0 in /usr/local/lib/python3.10/dist-packages (from langsmith<0.2.0,>=0.1.17->langchain) (0.27.2)\n",
            "Requirement already satisfied: orjson<4.0.0,>=3.9.14 in /usr/local/lib/python3.10/dist-packages (from langsmith<0.2.0,>=0.1.17->langchain) (3.10.7)\n",
            "Requirement already satisfied: annotated-types>=0.6.0 in /usr/local/lib/python3.10/dist-packages (from pydantic<3.0.0,>=2.7.4->langchain) (0.7.0)\n",
            "Requirement already satisfied: pydantic-core==2.23.4 in /usr/local/lib/python3.10/dist-packages (from pydantic<3.0.0,>=2.7.4->langchain) (2.23.4)\n",
            "Requirement already satisfied: charset-normalizer<4,>=2 in /usr/local/lib/python3.10/dist-packages (from requests<3,>=2->langchain) (3.3.2)\n",
            "Requirement already satisfied: idna<4,>=2.5 in /usr/local/lib/python3.10/dist-packages (from requests<3,>=2->langchain) (3.10)\n",
            "Requirement already satisfied: urllib3<3,>=1.21.1 in /usr/local/lib/python3.10/dist-packages (from requests<3,>=2->langchain) (2.2.3)\n",
            "Requirement already satisfied: certifi>=2017.4.17 in /usr/local/lib/python3.10/dist-packages (from requests<3,>=2->langchain) (2024.8.30)\n",
            "Requirement already satisfied: greenlet!=0.4.17 in /usr/local/lib/python3.10/dist-packages (from SQLAlchemy<3,>=1.4->langchain) (3.1.1)\n",
            "Requirement already satisfied: anyio in /usr/local/lib/python3.10/dist-packages (from httpx<1,>=0.23.0->langsmith<0.2.0,>=0.1.17->langchain) (3.7.1)\n",
            "Requirement already satisfied: httpcore==1.* in /usr/local/lib/python3.10/dist-packages (from httpx<1,>=0.23.0->langsmith<0.2.0,>=0.1.17->langchain) (1.0.5)\n",
            "Requirement already satisfied: sniffio in /usr/local/lib/python3.10/dist-packages (from httpx<1,>=0.23.0->langsmith<0.2.0,>=0.1.17->langchain) (1.3.1)\n",
            "Requirement already satisfied: h11<0.15,>=0.13 in /usr/local/lib/python3.10/dist-packages (from httpcore==1.*->httpx<1,>=0.23.0->langsmith<0.2.0,>=0.1.17->langchain) (0.14.0)\n",
            "Requirement already satisfied: jsonpointer>=1.9 in /usr/local/lib/python3.10/dist-packages (from jsonpatch<2.0,>=1.33->langchain-core<0.4.0,>=0.3.6->langchain) (3.0.0)\n",
            "Requirement already satisfied: exceptiongroup in /usr/local/lib/python3.10/dist-packages (from anyio->httpx<1,>=0.23.0->langsmith<0.2.0,>=0.1.17->langchain) (1.2.2)\n",
            "Downloading langchain-0.3.1-py3-none-any.whl (1.0 MB)\n",
            "\u001b[2K   \u001b[90m━━━━━━━━━━━━━━━━━━━━━━━━━━━━━━━━━━━━━━━━\u001b[0m \u001b[32m1.0/1.0 MB\u001b[0m \u001b[31m17.8 MB/s\u001b[0m eta \u001b[36m0:00:00\u001b[0m\n",
            "\u001b[?25hDownloading langchain_text_splitters-0.3.0-py3-none-any.whl (25 kB)\n",
            "Installing collected packages: langchain-text-splitters, langchain\n",
            "Successfully installed langchain-0.3.1 langchain-text-splitters-0.3.0\n"
          ]
        }
      ]
    },
    {
      "cell_type": "code",
      "source": [
        "model = ChatGroq(model=\"llama3-groq-70b-8192-tool-use-preview\")"
      ],
      "metadata": {
        "id": "YoqxG7XCmx27"
      },
      "execution_count": 7,
      "outputs": []
    },
    {
      "cell_type": "code",
      "source": [
        "from langchain_core.prompts import ChatPromptTemplate, MessagesPlaceholder\n",
        "\n",
        "# Define the prompt template for volleyball training plans\n",
        "prompt = ChatPromptTemplate.from_messages(\n",
        "    [\n",
        "        (\n",
        "            \"system\",\n",
        "            \"You are a professional volleyball coach who specializes in creating personalized training plans. \"\n",
        "            \"Gather the player's volleyball position, experience level, and specific volleyball goals. \"\n",
        "            \"Generate a comprehensive training plan that focuses exclusively on the player's volleyball goals. \"\n",
        "            \"Ensure the plan includes structured phases, specific drills, and clear explanations to facilitate the player's improvement in their desired skill area. \"\n",
        "            \"Do not include any fitness-related elements or goals in the training plan, even if mentioned in previous messages. \"\n",
        "            \"Do not call external tools or ask follow-up questions if all key information is already provided. \"\n",
        "            \"Provide the final training plan directly.\"\n",
        "        ),\n",
        "        MessagesPlaceholder(variable_name=\"messages\"),\n",
        "    ]\n",
        ")\n",
        "\n"
      ],
      "metadata": {
        "id": "72rExeqUm9Ma"
      },
      "execution_count": 8,
      "outputs": []
    },
    {
      "cell_type": "code",
      "source": [
        "class VolleyballState(TypedDict):\n",
        "    messages: Annotated[Sequence[BaseMessage], add_messages]\n",
        "    position: str\n",
        "    experience_level: str\n",
        "    volleyball_goals: Sequence[str]"
      ],
      "metadata": {
        "id": "z6IRMpgUnI43"
      },
      "execution_count": 9,
      "outputs": []
    },
    {
      "cell_type": "code",
      "source": [
        "def generate_volleyball_training_plan(playerPosition, experienceLevel, volleyballGoals):\n",
        "    return (\n",
        "        f\"Training plan for {playerPosition} with {experienceLevel} experience:\\n\"\n",
        "        f\"Volleyball Goals: {', '.join(volleyballGoals)}.\\n\"\n",
        "        \"Include specific drills for each goal to improve your skills.\"\n",
        "    )"
      ],
      "metadata": {
        "id": "ggkVho5LwHJ1"
      },
      "execution_count": 10,
      "outputs": []
    },
    {
      "cell_type": "code",
      "source": [
        "# Function to call the model and generate training plans\n",
        "def call_model(state: VolleyballState):\n",
        "    # Debug: Print state before calling model\n",
        "    print(f\"Calling model with state: {state}\")\n",
        "\n",
        "    # Use the prompt template to call the language model, filling in the user's inputs\n",
        "    chain = prompt | model\n",
        "    response = chain.invoke(state)\n",
        "\n",
        "    # Debug: Print raw response for troubleshooting\n",
        "    print(f\"Model response: {response}\")\n",
        "\n",
        "    # Check if the response contains a tool call\n",
        "    if \"<tool_call>\" in response.content:\n",
        "        # Parse the tool call\n",
        "        tool_call_str = response.content.strip(\"<tool_call>\").strip(\"</tool_call>\")\n",
        "        tool_call_data = json.loads(tool_call_str)\n",
        "\n",
        "        # Call the appropriate function for generating the volleyball training plan\n",
        "        training_plan = generate_volleyball_training_plan(**tool_call_data['arguments'])\n",
        "        return {\"messages\": [training_plan]}\n",
        "\n",
        "    return {\"messages\": [response]}"
      ],
      "metadata": {
        "id": "B__d0C6inKzs"
      },
      "execution_count": 11,
      "outputs": []
    },
    {
      "cell_type": "code",
      "source": [
        "workflow = StateGraph(state_schema=VolleyballState)\n",
        "\n",
        "# Add nodes and edges\n",
        "workflow.add_edge(START, \"model\")\n",
        "workflow.add_node(\"model\", call_model)\n",
        "\n",
        "# Create an in-memory checkpoint to save the conversation\n",
        "memory = MemorySaver()\n",
        "app = workflow.compile(checkpointer=memory)\n"
      ],
      "metadata": {
        "id": "dhceiaFUnOcJ"
      },
      "execution_count": 12,
      "outputs": []
    },
    {
      "cell_type": "code",
      "source": [
        "# Define the config for conversation thread\n",
        "config = {\"configurable\": {\"thread_id\": \"volleyball123\"}}\n",
        "\n",
        "# Start continuous conversation\n",
        "conversation_history = []\n",
        "\n",
        "while True:\n",
        "    # User input\n",
        "    position = input(\"What is your volleyball position? (if unsure type 'unsure')): \")\n",
        "    if position.lower().strip == 'unsure':\n",
        "        continue\n",
        "    else:\n",
        "        position = position.lower().strip()\n",
        "\n",
        "\n",
        "    experience_level = input(\"What is your experience level (Beginner, Intermediate, Advanced)? \").lower().strip()\n",
        "\n",
        "    volleyball_goals_input = input(\"What are your volleyball goals?: \").lower().strip()\n",
        "\n",
        "    volleyball_goals = [goal.strip() for goal in volleyball_goals_input.split(\",\")]\n",
        "\n",
        "    # Append user's message to the conversation history\n",
        "    conversation_history.append(\n",
        "        HumanMessage(\n",
        "            content=f\"I am {position} with {experience_level} experience, \"\n",
        "            f\"and my volleyball goals are {volleyball_goals}.\"\n",
        "        )\n",
        "    )\n",
        "\n",
        "    # Invoke the model with the user's input for personalized training plan\n",
        "    output = app.invoke(\n",
        "        {\n",
        "            \"messages\": conversation_history,\n",
        "            \"position\": position,\n",
        "            \"experience_level\": experience_level,\n",
        "            \"volleyball_goals\": volleyball_goals\n",
        "        },\n",
        "        config\n",
        "    )\n",
        "\n",
        "    # Store the response from the model into the conversation history\n",
        "    conversation_history.append(output[\"messages\"][-1])\n",
        "\n",
        "    # Print the final output message (training plan)\n",
        "    if output[\"messages\"]:\n",
        "        print(output[\"messages\"][-1].content)  # Ensure to print the 'content' of the response\n",
        "    else:\n",
        "        print(\"No response from the model.\")\n",
        "    break"
      ],
      "metadata": {
        "colab": {
          "base_uri": "https://localhost:8080/"
        },
        "id": "zRLTuj7dnUgU",
        "outputId": "97281dd0-1b24-4cbc-c829-d567ab7daa65"
      },
      "execution_count": 14,
      "outputs": [
        {
          "output_type": "stream",
          "name": "stdout",
          "text": [
            "What is your volleyball position? (if unsure type 'unsure')): unsure\n",
            "What is your experience level (Beginner, Intermediate, Advanced)? beginner\n",
            "What are your volleyball goals?: be able to do a topsin serve\n",
            "Calling model with state: {'messages': [HumanMessage(content=\"I am unsure with beginner experience, and my volleyball goals are ['be able to do a topsin serve'].\", additional_kwargs={}, response_metadata={}, id='dcac449a-e3f5-4871-afaf-e2c24d10eb0c')], 'position': 'unsure', 'experience_level': 'beginner', 'volleyball_goals': ['be able to do a topsin serve']}\n",
            "Model response: content=\"Training Plan for Beginner Volleyball Player Focusing on Topspin Serve:\\n\\nPhase 1: Fundamentals of the Topspin Serve (Weeks 1-4)\\n\\n1. **Stance and Positioning**: Stand with your feet shoulder-width apart, with your body facing the net. Keep your knees slightly bent and your weight evenly distributed between both feet.\\n\\n2. **Grip**: Hold the ball with your fingertips, ensuring that your thumb is on the seam of the ball. Your grip should be firm but not too tight, allowing for control and spin.\\n\\n3. **Toss**: Practice tossing the ball 6-8 feet in the air, using your non-dominant hand. Focus on keeping your arm straight and using your wrist to generate power.\\n\\n4. **Contact**: As the ball descends from your toss, use your dominant hand to make contact with the top of the ball. Keep your arm straight and use your wrist to impart spin on the ball.\\n\\n5. **Follow-Through**: After making contact, follow through with your arm and keep your eyes on the ball as it travels over the net.\\n\\nPhase 2: Building Consistency and Power (Weeks 5-8)\\n\\n1. **Drill 1: Toss and Serve**: Practice the entire topspin serve motion, focusing on consistent tosses and powerful serves.\\n\\n2. **Drill 2: Serve Receiving**: Have a partner or coach hit serves back at you to practice receiving and passing. This will help improve your reaction time and hand positioning for the topspin serve.\\n\\n3. **Drill 3: Serve and Move**: Practice serving and then quickly moving to a defensive position, simulating game scenarios where you need to serve and then immediately defend.\\n\\nPhase 3: Advanced Techniques and Game Situations (Weeks 9-12)\\n\\n1. **Drill 4: Topspin Serve with Deception**: Practice adding deception to your topspin serve by varying the speed and spin of your serves.\\n\\n2. **Drill 5: Serving in Game Situations**: Practice serving in different game scenarios, such as serving to specific areas of the court or targeting specific opponents.\\n\\n3. **Drill 6: Serve and Block**: Have a partner or coach block your serves to practice adjusting your serves based on the opponent's defensive strategy.\\n\\nBy following this structured training plan, you should be able to develop a consistent and powerful topspin serve. Remember to stay focused, practice regularly, and seek feedback from coaches or experienced players to improve your technique.\" additional_kwargs={} response_metadata={'token_usage': {'completion_tokens': 516, 'prompt_tokens': 152, 'total_tokens': 668, 'completion_time': 1.6550150179999998, 'prompt_time': 0.012649109, 'queue_time': 0.009941106, 'total_time': 1.667664127}, 'model_name': 'llama3-groq-70b-8192-tool-use-preview', 'system_fingerprint': 'fp_ee4b521143', 'finish_reason': 'stop', 'logprobs': None} id='run-557ce6ca-65d4-44a7-982e-c4183d162907-0' usage_metadata={'input_tokens': 152, 'output_tokens': 516, 'total_tokens': 668}\n",
            "Training Plan for Beginner Volleyball Player Focusing on Topspin Serve:\n",
            "\n",
            "Phase 1: Fundamentals of the Topspin Serve (Weeks 1-4)\n",
            "\n",
            "1. **Stance and Positioning**: Stand with your feet shoulder-width apart, with your body facing the net. Keep your knees slightly bent and your weight evenly distributed between both feet.\n",
            "\n",
            "2. **Grip**: Hold the ball with your fingertips, ensuring that your thumb is on the seam of the ball. Your grip should be firm but not too tight, allowing for control and spin.\n",
            "\n",
            "3. **Toss**: Practice tossing the ball 6-8 feet in the air, using your non-dominant hand. Focus on keeping your arm straight and using your wrist to generate power.\n",
            "\n",
            "4. **Contact**: As the ball descends from your toss, use your dominant hand to make contact with the top of the ball. Keep your arm straight and use your wrist to impart spin on the ball.\n",
            "\n",
            "5. **Follow-Through**: After making contact, follow through with your arm and keep your eyes on the ball as it travels over the net.\n",
            "\n",
            "Phase 2: Building Consistency and Power (Weeks 5-8)\n",
            "\n",
            "1. **Drill 1: Toss and Serve**: Practice the entire topspin serve motion, focusing on consistent tosses and powerful serves.\n",
            "\n",
            "2. **Drill 2: Serve Receiving**: Have a partner or coach hit serves back at you to practice receiving and passing. This will help improve your reaction time and hand positioning for the topspin serve.\n",
            "\n",
            "3. **Drill 3: Serve and Move**: Practice serving and then quickly moving to a defensive position, simulating game scenarios where you need to serve and then immediately defend.\n",
            "\n",
            "Phase 3: Advanced Techniques and Game Situations (Weeks 9-12)\n",
            "\n",
            "1. **Drill 4: Topspin Serve with Deception**: Practice adding deception to your topspin serve by varying the speed and spin of your serves.\n",
            "\n",
            "2. **Drill 5: Serving in Game Situations**: Practice serving in different game scenarios, such as serving to specific areas of the court or targeting specific opponents.\n",
            "\n",
            "3. **Drill 6: Serve and Block**: Have a partner or coach block your serves to practice adjusting your serves based on the opponent's defensive strategy.\n",
            "\n",
            "By following this structured training plan, you should be able to develop a consistent and powerful topspin serve. Remember to stay focused, practice regularly, and seek feedback from coaches or experienced players to improve your technique.\n"
          ]
        }
      ]
    }
  ]
}