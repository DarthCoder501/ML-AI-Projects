{
 "cells": [
  {
   "cell_type": "code",
   "execution_count": 1,
   "metadata": {},
   "outputs": [
    {
     "name": "stdout",
     "output_type": "stream",
     "text": [
      "{'prediction': [1], 'probabilities': [[0.21954607963562012, 0.7804539203643799]]}\n"
     ]
    }
   ],
   "source": [
    "import requests\n",
    "import json \n",
    "\n",
    "# URL of your deployled model \n",
    "url = \"https://churn-ml-model.onrender.com/predict\"\n",
    "\n",
    "# Sample customer data \n",
    "customerData = {\n",
    "    \"CreditScore\": 700, \n",
    "    \"Geography\": \"France\",\n",
    "    \"Gender\": \"Female\",\n",
    "    \"Age\": 12,\n",
    "    \"Tenure\": 0,\n",
    "    \"Balance\": 0, \n",
    "    \"NumOfProducts\": 3,\n",
    "    \"HasCrCard\": 1, \n",
    "    \"IsActiveMember\": 0, \n",
    "    \"EstimatedSalary\": 8\n",
    "}\n",
    "\n",
    "# Send POST Request \n",
    "response = requests.post(url, json=customerData)\n",
    "\n",
    "# Check if the request was succesful \n",
    "if response.status_code == 200: \n",
    "    # Parse the JSON response \n",
    "    result = response.json()\n",
    "    print(result)\n",
    "else: \n",
    "    print(\"Error: \", response.status_code, response.text) \n",
    "\n"
   ]
  }
 ],
 "metadata": {
  "kernelspec": {
   "display_name": "Python 3",
   "language": "python",
   "name": "python3"
  },
  "language_info": {
   "codemirror_mode": {
    "name": "ipython",
    "version": 3
   },
   "file_extension": ".py",
   "mimetype": "text/x-python",
   "name": "python",
   "nbconvert_exporter": "python",
   "pygments_lexer": "ipython3",
   "version": "3.12.5"
  }
 },
 "nbformat": 4,
 "nbformat_minor": 2
}
