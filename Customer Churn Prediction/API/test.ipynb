import requests
import json 

# URL of your deployled model 
url = "https://churn-ml-model.onrender.com/predict"

# Sample customer data 
customerData = {
    "CreditScore": 700, 
    "Geography": "France",
    "Gender": "Female",
    "Age": 12,
    "Tenure": 0,
    "Balance": 0, 
    "NumOfProducts": 3,
    "HasCrCard": 1, 
    "IsActiveMember": 0, 
    "EstimatedSalary": 8
}

# Send POST Request 
response = requests.post(url, json=customerData)

# Check if the request was succesful 
if response.status_code == 200: 
    # Parse the JSON response 
    result = response.json()
    print(result)
else: 
    print("Error: ", response.status_code, response.text) 
